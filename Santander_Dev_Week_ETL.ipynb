{
  "nbformat": 4,
  "nbformat_minor": 0,
  "metadata": {
    "colab": {
      "provenance": []
    },
    "kernelspec": {
      "name": "python3",
      "display_name": "Python 3"
    },
    "language_info": {
      "name": "python"
    }
  },
  "cells": [
    {
      "cell_type": "markdown",
      "source": [
        "# EXTRACT\n",
        "EXTRAÇÃO"
      ],
      "metadata": {
        "id": "BQHMbdJGmhTE"
      }
    },
    {
      "cell_type": "code",
      "source": [
        "sdw_api_url = \"https://sdw-2023-prd.up.railway.app\"\n",
        "\n",
        "import pandas as pd\n",
        "\n",
        "df = pd.read_csv(\"SDW2023.csv\") # data frame\n",
        "\n",
        "user_ids = df['UserID'].tolist()\n",
        "\n",
        "print(user_ids)"
      ],
      "metadata": {
        "colab": {
          "base_uri": "https://localhost:8080/"
        },
        "id": "ExB9TqsDYmva",
        "outputId": "ba8f4b0d-8ae9-4507-aa71-e211f5ed7379"
      },
      "execution_count": 23,
      "outputs": [
        {
          "output_type": "stream",
          "name": "stdout",
          "text": [
            "[13, 14, 15]\n"
          ]
        }
      ]
    },
    {
      "cell_type": "code",
      "source": [
        "import requests\n",
        "import json\n",
        "\n",
        "def get_user(id):\n",
        "    response = requests.get(f'{sdw_api_url}/users/{id}')\n",
        "    return response.json() if response.status_code == 200 else None\n",
        "\n",
        "users = [user for id in user_ids if(user := get_user(id)) is not None]\n",
        "#print(json.dumps(users, indent=2))\n"
      ],
      "metadata": {
        "id": "JAOP__l9Y6nv"
      },
      "execution_count": null,
      "outputs": []
    },
    {
      "cell_type": "markdown",
      "source": [
        "# TRANSFORM\n",
        "integração com o chatgpt de forma manual"
      ],
      "metadata": {
        "id": "0x_89wRvmaDx"
      }
    },
    {
      "cell_type": "code",
      "source": [
        "!pip install openai\n"
      ],
      "metadata": {
        "id": "HgC0aa7qfPC0"
      },
      "execution_count": null,
      "outputs": []
    },
    {
      "cell_type": "code",
      "source": [
        "import openai\n",
        "\n",
        "generate_ai_news = [\"O sucesso é a soma de pequenos esforços repetidos dia após dia\", \"A única maneira de fazer um ótimo trabalho é amar o que você faz.\", \"O futuro pertence àqueles que acreditam na beleza de seus sonhos.\"]\n",
        "\n",
        "for i, user in enumerate(users):\n",
        "    if i < len(generate_ai_news):\n",
        "        news = generate_ai_news[i]\n",
        "        print(news)\n",
        "        user['news'].append({ \"icon\": \"\",\n",
        "                              \"description\": news })"
      ],
      "metadata": {
        "colab": {
          "base_uri": "https://localhost:8080/"
        },
        "id": "dTMpXq1fhbsc",
        "outputId": "289360d8-e215-40ff-98b4-6d85b5472ad8"
      },
      "execution_count": 26,
      "outputs": [
        {
          "output_type": "stream",
          "name": "stdout",
          "text": [
            "O sucesso é a soma de pequenos esforços repetidos dia após dia\n",
            "A única maneira de fazer um ótimo trabalho é amar o que você faz.\n",
            "O futuro pertence àqueles que acreditam na beleza de seus sonhos.\n"
          ]
        }
      ]
    },
    {
      "cell_type": "markdown",
      "source": [
        "# LOAD\n",
        "atualize a lista de \"news\" de cada usuário na API com a nova mensagem gerada"
      ],
      "metadata": {
        "id": "D-6JwcZXjpHk"
      }
    },
    {
      "cell_type": "code",
      "source": [
        "def update_user(user):\n",
        "    response = requests.put(f\"{sdw_api_url}/users/{user['id']}\", json=user)\n",
        "    return True if response.status_code == 200 else False\n",
        "\n",
        "for user in users:\n",
        "    success = update_user(user)\n",
        "    print(f\"User {user['name']} updates? {success}!\")"
      ],
      "metadata": {
        "colab": {
          "base_uri": "https://localhost:8080/"
        },
        "id": "7kJr1fiNlEkp",
        "outputId": "69a113d2-16e7-4c32-b49e-f83175cbeafb"
      },
      "execution_count": 27,
      "outputs": [
        {
          "output_type": "stream",
          "name": "stdout",
          "text": [
            "User anguile updates? True!\n",
            "User Maria updates? True!\n",
            "User Pyterson updates? True!\n"
          ]
        }
      ]
    }
  ]
}